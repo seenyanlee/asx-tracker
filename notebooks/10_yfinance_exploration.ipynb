{
 "cells": [
  {
   "cell_type": "code",
   "execution_count": 1,
   "id": "fc876fd3",
   "metadata": {},
   "outputs": [],
   "source": [
    "import pandas as pd\n",
    "import yfinance as yf\n",
    "import matplotlib.pyplot as plt"
   ]
  },
  {
   "cell_type": "code",
   "execution_count": null,
   "id": "1eebbe28",
   "metadata": {},
   "outputs": [
    {
     "name": "stderr",
     "output_type": "stream",
     "text": [
      "C:\\Users\\Seen Yan\\AppData\\Local\\Temp\\ipykernel_22536\\998696144.py:1: FutureWarning: YF.download() has changed argument auto_adjust default to True\n",
      "  vae_df = yf.download('VAE.AX')\n",
      "[*********************100%***********************]  1 of 1 completed\n"
     ]
    }
   ],
   "source": [
    "# High, Low, Open, Close, Volume for the last month\n",
    "vae_df = yf.download('VAE.AX')"
   ]
  },
  {
   "cell_type": "code",
   "execution_count": 3,
   "id": "f388899f",
   "metadata": {},
   "outputs": [],
   "source": [
    "ticker = yf.Ticker('VAE.AX')"
   ]
  },
  {
   "cell_type": "code",
   "execution_count": 4,
   "id": "2a577895",
   "metadata": {},
   "outputs": [
    {
     "data": {
      "application/vnd.microsoft.datawrangler.viewer.v0+json": {
       "columns": [
        {
         "name": "Date",
         "rawType": "datetime64[ns, Australia/Sydney]",
         "type": "unknown"
        },
        {
         "name": "Dividends",
         "rawType": "float64",
         "type": "float"
        }
       ],
       "ref": "87ab9d85-f86a-4eca-8948-4ee81af10475",
       "rows": [
        [
         "2016-04-01 00:00:00+11:00",
         "0.137802"
        ],
        [
         "2016-07-01 00:00:00+10:00",
         "0.374362"
        ],
        [
         "2016-10-04 00:00:00+11:00",
         "0.673088"
        ],
        [
         "2017-01-03 00:00:00+11:00",
         "0.099793"
        ],
        [
         "2017-04-03 00:00:00+10:00",
         "0.047513"
        ],
        [
         "2017-07-03 00:00:00+10:00",
         "0.898775"
        ],
        [
         "2017-10-02 00:00:00+11:00",
         "0.690459"
        ],
        [
         "2018-01-02 00:00:00+11:00",
         "0.207443"
        ],
        [
         "2018-04-03 00:00:00+10:00",
         "0.06507"
        ],
        [
         "2018-07-02 00:00:00+10:00",
         "0.852253"
        ],
        [
         "2018-10-01 00:00:00+10:00",
         "0.653582"
        ],
        [
         "2019-01-02 00:00:00+11:00",
         "0.125125"
        ],
        [
         "2019-04-01 00:00:00+11:00",
         "0.073464"
        ],
        [
         "2019-07-02 00:00:00+10:00",
         "0.555161"
        ],
        [
         "2019-10-02 00:00:00+10:00",
         "0.716923"
        ],
        [
         "2020-01-02 00:00:00+11:00",
         "0.349662"
        ],
        [
         "2020-04-01 00:00:00+11:00",
         "0.248424"
        ],
        [
         "2020-07-02 00:00:00+10:00",
         "0.520298"
        ],
        [
         "2020-10-05 00:00:00+11:00",
         "0.569625"
        ],
        [
         "2021-01-04 00:00:00+11:00",
         "0.265696"
        ],
        [
         "2021-04-01 00:00:00+11:00",
         "0.046647"
        ],
        [
         "2021-07-02 00:00:00+10:00",
         "0.403858"
        ],
        [
         "2021-10-04 00:00:00+11:00",
         "0.60277"
        ],
        [
         "2022-01-04 00:00:00+11:00",
         "0.250326"
        ],
        [
         "2022-04-01 00:00:00+11:00",
         "0.16682"
        ],
        [
         "2022-07-04 00:00:00+10:00",
         "0.313365"
        ],
        [
         "2022-10-03 00:00:00+11:00",
         "0.914118"
        ],
        [
         "2023-01-03 00:00:00+11:00",
         "0.187751"
        ],
        [
         "2023-04-03 00:00:00+10:00",
         "0.062171"
        ],
        [
         "2023-07-03 00:00:00+10:00",
         "0.393304"
        ],
        [
         "2023-10-02 00:00:00+11:00",
         "0.827078"
        ],
        [
         "2023-10-03 00:00:00+11:00",
         "0.827078"
        ],
        [
         "2024-01-02 00:00:00+11:00",
         "0.156741"
        ],
        [
         "2024-04-02 00:00:00+11:00",
         "0.057324"
        ],
        [
         "2024-07-01 00:00:00+10:00",
         "0.491202"
        ],
        [
         "2024-07-02 00:00:00+10:00",
         "0.491202"
        ],
        [
         "2024-10-01 00:00:00+10:00",
         "0.72522"
        ],
        [
         "2024-10-04 00:00:00+10:00",
         "0.72522"
        ],
        [
         "2025-01-02 00:00:00+11:00",
         "0.277205"
        ],
        [
         "2025-04-01 00:00:00+11:00",
         "0.154474"
        ],
        [
         "2025-07-01 00:00:00+10:00",
         "0.677876"
        ],
        [
         "2025-07-02 00:00:00+10:00",
         "0.677876"
        ]
       ],
       "shape": {
        "columns": 1,
        "rows": 42
       }
      },
      "text/plain": [
       "Date\n",
       "2016-04-01 00:00:00+11:00    0.137802\n",
       "2016-07-01 00:00:00+10:00    0.374362\n",
       "2016-10-04 00:00:00+11:00    0.673088\n",
       "2017-01-03 00:00:00+11:00    0.099793\n",
       "2017-04-03 00:00:00+10:00    0.047513\n",
       "2017-07-03 00:00:00+10:00    0.898775\n",
       "2017-10-02 00:00:00+11:00    0.690459\n",
       "2018-01-02 00:00:00+11:00    0.207443\n",
       "2018-04-03 00:00:00+10:00    0.065070\n",
       "2018-07-02 00:00:00+10:00    0.852253\n",
       "2018-10-01 00:00:00+10:00    0.653582\n",
       "2019-01-02 00:00:00+11:00    0.125125\n",
       "2019-04-01 00:00:00+11:00    0.073464\n",
       "2019-07-02 00:00:00+10:00    0.555161\n",
       "2019-10-02 00:00:00+10:00    0.716923\n",
       "2020-01-02 00:00:00+11:00    0.349662\n",
       "2020-04-01 00:00:00+11:00    0.248424\n",
       "2020-07-02 00:00:00+10:00    0.520298\n",
       "2020-10-05 00:00:00+11:00    0.569625\n",
       "2021-01-04 00:00:00+11:00    0.265696\n",
       "2021-04-01 00:00:00+11:00    0.046647\n",
       "2021-07-02 00:00:00+10:00    0.403858\n",
       "2021-10-04 00:00:00+11:00    0.602770\n",
       "2022-01-04 00:00:00+11:00    0.250326\n",
       "2022-04-01 00:00:00+11:00    0.166820\n",
       "2022-07-04 00:00:00+10:00    0.313365\n",
       "2022-10-03 00:00:00+11:00    0.914118\n",
       "2023-01-03 00:00:00+11:00    0.187751\n",
       "2023-04-03 00:00:00+10:00    0.062171\n",
       "2023-07-03 00:00:00+10:00    0.393304\n",
       "2023-10-02 00:00:00+11:00    0.827078\n",
       "2023-10-03 00:00:00+11:00    0.827078\n",
       "2024-01-02 00:00:00+11:00    0.156741\n",
       "2024-04-02 00:00:00+11:00    0.057324\n",
       "2024-07-01 00:00:00+10:00    0.491202\n",
       "2024-07-02 00:00:00+10:00    0.491202\n",
       "2024-10-01 00:00:00+10:00    0.725220\n",
       "2024-10-04 00:00:00+10:00    0.725220\n",
       "2025-01-02 00:00:00+11:00    0.277205\n",
       "2025-04-01 00:00:00+11:00    0.154474\n",
       "2025-07-01 00:00:00+10:00    0.677876\n",
       "2025-07-02 00:00:00+10:00    0.677876\n",
       "Name: Dividends, dtype: float64"
      ]
     },
     "execution_count": 4,
     "metadata": {},
     "output_type": "execute_result"
    }
   ],
   "source": [
    "ticker.get_dividends()"
   ]
  },
  {
   "cell_type": "code",
   "execution_count": 7,
   "id": "10e3bbca",
   "metadata": {},
   "outputs": [
    {
     "data": {
      "text/plain": [
       "['__class__',\n",
       " '__delattr__',\n",
       " '__dict__',\n",
       " '__dir__',\n",
       " '__doc__',\n",
       " '__eq__',\n",
       " '__firstlineno__',\n",
       " '__format__',\n",
       " '__ge__',\n",
       " '__getattribute__',\n",
       " '__getstate__',\n",
       " '__gt__',\n",
       " '__hash__',\n",
       " '__init__',\n",
       " '__init_subclass__',\n",
       " '__le__',\n",
       " '__lt__',\n",
       " '__module__',\n",
       " '__ne__',\n",
       " '__new__',\n",
       " '__reduce__',\n",
       " '__reduce_ex__',\n",
       " '__repr__',\n",
       " '__setattr__',\n",
       " '__sizeof__',\n",
       " '__static_attributes__',\n",
       " '__str__',\n",
       " '__subclasshook__',\n",
       " '__weakref__',\n",
       " '_analysis',\n",
       " '_data',\n",
       " '_download_options',\n",
       " '_earnings',\n",
       " '_earnings_dates',\n",
       " '_expirations',\n",
       " '_fast_info',\n",
       " '_fetch_ticker_tz',\n",
       " '_financials',\n",
       " '_fundamentals',\n",
       " '_funds_data',\n",
       " '_get_ticker_tz',\n",
       " '_holders',\n",
       " '_isin',\n",
       " '_lazy_load_price_history',\n",
       " '_message_handler',\n",
       " '_news',\n",
       " '_options2df',\n",
       " '_price_history',\n",
       " '_quote',\n",
       " '_shares',\n",
       " '_tz',\n",
       " '_underlying',\n",
       " 'actions',\n",
       " 'analyst_price_targets',\n",
       " 'balance_sheet',\n",
       " 'balancesheet',\n",
       " 'calendar',\n",
       " 'capital_gains',\n",
       " 'cash_flow',\n",
       " 'cashflow',\n",
       " 'dividends',\n",
       " 'earnings',\n",
       " 'earnings_dates',\n",
       " 'earnings_estimate',\n",
       " 'earnings_history',\n",
       " 'eps_revisions',\n",
       " 'eps_trend',\n",
       " 'fast_info',\n",
       " 'financials',\n",
       " 'funds_data',\n",
       " 'get_actions',\n",
       " 'get_analyst_price_targets',\n",
       " 'get_balance_sheet',\n",
       " 'get_balancesheet',\n",
       " 'get_calendar',\n",
       " 'get_capital_gains',\n",
       " 'get_cash_flow',\n",
       " 'get_cashflow',\n",
       " 'get_dividends',\n",
       " 'get_earnings',\n",
       " 'get_earnings_dates',\n",
       " 'get_earnings_estimate',\n",
       " 'get_earnings_history',\n",
       " 'get_eps_revisions',\n",
       " 'get_eps_trend',\n",
       " 'get_fast_info',\n",
       " 'get_financials',\n",
       " 'get_funds_data',\n",
       " 'get_growth_estimates',\n",
       " 'get_history_metadata',\n",
       " 'get_income_stmt',\n",
       " 'get_incomestmt',\n",
       " 'get_info',\n",
       " 'get_insider_purchases',\n",
       " 'get_insider_roster_holders',\n",
       " 'get_insider_transactions',\n",
       " 'get_institutional_holders',\n",
       " 'get_isin',\n",
       " 'get_major_holders',\n",
       " 'get_mutualfund_holders',\n",
       " 'get_news',\n",
       " 'get_recommendations',\n",
       " 'get_recommendations_summary',\n",
       " 'get_revenue_estimate',\n",
       " 'get_sec_filings',\n",
       " 'get_shares',\n",
       " 'get_shares_full',\n",
       " 'get_splits',\n",
       " 'get_sustainability',\n",
       " 'get_upgrades_downgrades',\n",
       " 'growth_estimates',\n",
       " 'history',\n",
       " 'history_metadata',\n",
       " 'income_stmt',\n",
       " 'incomestmt',\n",
       " 'info',\n",
       " 'insider_purchases',\n",
       " 'insider_roster_holders',\n",
       " 'insider_transactions',\n",
       " 'institutional_holders',\n",
       " 'isin',\n",
       " 'live',\n",
       " 'major_holders',\n",
       " 'mutualfund_holders',\n",
       " 'news',\n",
       " 'option_chain',\n",
       " 'options',\n",
       " 'quarterly_balance_sheet',\n",
       " 'quarterly_balancesheet',\n",
       " 'quarterly_cash_flow',\n",
       " 'quarterly_cashflow',\n",
       " 'quarterly_earnings',\n",
       " 'quarterly_financials',\n",
       " 'quarterly_income_stmt',\n",
       " 'quarterly_incomestmt',\n",
       " 'recommendations',\n",
       " 'recommendations_summary',\n",
       " 'revenue_estimate',\n",
       " 'sec_filings',\n",
       " 'session',\n",
       " 'shares',\n",
       " 'splits',\n",
       " 'sustainability',\n",
       " 'ticker',\n",
       " 'ttm_cash_flow',\n",
       " 'ttm_cashflow',\n",
       " 'ttm_financials',\n",
       " 'ttm_income_stmt',\n",
       " 'ttm_incomestmt',\n",
       " 'upgrades_downgrades',\n",
       " 'ws']"
      ]
     },
     "execution_count": 7,
     "metadata": {},
     "output_type": "execute_result"
    }
   ],
   "source": [
    "dir(ticker)"
   ]
  },
  {
   "cell_type": "code",
   "execution_count": 10,
   "id": "63152ed4",
   "metadata": {},
   "outputs": [
    {
     "name": "stdout",
     "output_type": "stream",
     "text": [
      "phone \t +61 1300655101 \n",
      "\n",
      "companyOfficers \t [] \n",
      "\n",
      "executiveTeam \t [] \n",
      "\n",
      "maxAge \t 86400 \n",
      "\n",
      "priceHint \t 2 \n",
      "\n",
      "previousClose \t 88.67 \n",
      "\n",
      "open \t 89.05 \n",
      "\n",
      "dayLow \t 88.26 \n",
      "\n",
      "dayHigh \t 89.14 \n",
      "\n",
      "regularMarketPreviousClose \t 88.67 \n",
      "\n",
      "regularMarketOpen \t 89.05 \n",
      "\n",
      "regularMarketDayLow \t 88.26 \n",
      "\n",
      "regularMarketDayHigh \t 89.14 \n",
      "\n",
      "trailingPE \t 15.820512 \n",
      "\n",
      "volume \t 7557 \n",
      "\n",
      "regularMarketVolume \t 7557 \n",
      "\n",
      "averageVolume \t 12428 \n",
      "\n",
      "averageVolume10days \t 17145 \n",
      "\n",
      "averageDailyVolume10Day \t 17145 \n",
      "\n",
      "bid \t 88.2 \n",
      "\n",
      "ask \t 90.0 \n",
      "\n",
      "bidSize \t 0 \n",
      "\n",
      "askSize \t 0 \n",
      "\n",
      "yield \t 0.019199999 \n",
      "\n",
      "totalAssets \t 626055552 \n",
      "\n",
      "fiftyTwoWeekLow \t 72.01 \n",
      "\n",
      "fiftyTwoWeekHigh \t 89.52 \n",
      "\n",
      "fiftyDayAverage \t 86.3388 \n",
      "\n",
      "twoHundredDayAverage \t 81.49355 \n",
      "\n",
      "currency \t AUD \n",
      "\n",
      "tradeable \t False \n",
      "\n",
      "ytdReturn \t 7.24751 \n",
      "\n",
      "beta3Year \t 0.96 \n",
      "\n",
      "fundFamily \t Vanguard Investments Australia Ltd \n",
      "\n",
      "fundInceptionDate \t 1449619200 \n",
      "\n",
      "legalType \t Exchange Traded Fund \n",
      "\n",
      "threeYearAverageReturn \t 0.124797896 \n",
      "\n",
      "fiveYearAverageReturn \t 0.071944095 \n",
      "\n",
      "quoteType \t ETF \n",
      "\n",
      "symbol \t VAE.AX \n",
      "\n",
      "language \t en-US \n",
      "\n",
      "region \t US \n",
      "\n",
      "typeDisp \t ETF \n",
      "\n",
      "quoteSourceName \t Delayed Quote \n",
      "\n",
      "triggerable \t False \n",
      "\n",
      "customPriceAlertConfidence \t LOW \n",
      "\n",
      "hasPrePostMarketData \t False \n",
      "\n",
      "firstTradeDateMilliseconds \t 1449615600000 \n",
      "\n",
      "regularMarketChange \t -0.40999603 \n",
      "\n",
      "regularMarketDayRange \t 88.26 - 89.14 \n",
      "\n",
      "fullExchangeName \t ASX \n",
      "\n",
      "averageDailyVolume3Month \t 12428 \n",
      "\n",
      "fiftyTwoWeekLowChange \t 16.25 \n",
      "\n",
      "fiftyTwoWeekLowChangePercent \t 0.2256631 \n",
      "\n",
      "fiftyTwoWeekRange \t 72.01 - 89.52 \n",
      "\n",
      "fiftyTwoWeekHighChange \t -1.2599945 \n",
      "\n",
      "fiftyTwoWeekHighChangePercent \t -0.014075006 \n",
      "\n",
      "fiftyTwoWeekChangePercent \t 20.032644 \n",
      "\n",
      "regularMarketChangePercent \t -0.46238416 \n",
      "\n",
      "regularMarketPrice \t 88.26 \n",
      "\n",
      "dividendYield \t 1.92 \n",
      "\n",
      "trailingThreeMonthReturns \t 5.49358 \n",
      "\n",
      "trailingThreeMonthNavReturns \t 5.49358 \n",
      "\n",
      "netAssets \t 626055550.0 \n",
      "\n",
      "epsTrailingTwelveMonths \t 5.5788336 \n",
      "\n",
      "fiftyDayAverageChange \t 1.9212036 \n",
      "\n",
      "fiftyDayAverageChangePercent \t 0.022251915 \n",
      "\n",
      "twoHundredDayAverageChange \t 6.766449 \n",
      "\n",
      "twoHundredDayAverageChangePercent \t 0.083030485 \n",
      "\n",
      "sourceInterval \t 20 \n",
      "\n",
      "exchangeDataDelayedBy \t 20 \n",
      "\n",
      "cryptoTradeable \t False \n",
      "\n",
      "shortName \t VGDFTSEASA ETF UNITS [VAE] \n",
      "\n",
      "corporateActions \t [] \n",
      "\n",
      "regularMarketTime \t 1754633427 \n",
      "\n",
      "exchange \t ASX \n",
      "\n",
      "messageBoardId \t finmb_580310318 \n",
      "\n",
      "exchangeTimezoneName \t Australia/Sydney \n",
      "\n",
      "exchangeTimezoneShortName \t AEST \n",
      "\n",
      "gmtOffSetMilliseconds \t 36000000 \n",
      "\n",
      "market \t au_market \n",
      "\n",
      "esgPopulated \t False \n",
      "\n",
      "marketState \t CLOSED \n",
      "\n",
      "longName \t Vanguard FTSE Asia ex Japan Shares Index ETF \n",
      "\n",
      "trailingPegRatio \t None \n",
      "\n"
     ]
    }
   ],
   "source": [
    "for k,v in ticker.info.items():\n",
    "    print (k, '\\t', v, '\\n')"
   ]
  }
 ],
 "metadata": {
  "kernelspec": {
   "display_name": "Python (asx-tracker venv)",
   "language": "python",
   "name": "asx-tracker-venv"
  },
  "language_info": {
   "codemirror_mode": {
    "name": "ipython",
    "version": 3
   },
   "file_extension": ".py",
   "mimetype": "text/x-python",
   "name": "python",
   "nbconvert_exporter": "python",
   "pygments_lexer": "ipython3",
   "version": "3.13.5"
  }
 },
 "nbformat": 4,
 "nbformat_minor": 5
}
